{
 "cells": [
  {
   "cell_type": "markdown",
   "metadata": {},
   "source": [
    "### Carbon fluxes from wildfire with 'harvest' and 'no harvest' scenarios\n",
    "\n",
    "This example builds on the softwood-stochastic-disturbance-example.ipynb.  In this notebook we add scenarios on top of stochastic wildifre disturbances.  The scenarios include a reference 'harvest' scenario and a counterfactual 'no harvest' scenario to compare the differentce in biomass carbon stocks and net carbon emissions between the two scenarios.  Note that the net GHG effects of these scenarios must also account for downstream emissions from harvested wood products and substitution effects from producing different quantitites of products (see Figure 9.3 in [Nabuurs et al. 2007](https://www.ipcc.ch/site/assets/uploads/2018/02/ar4-wg3-chapter9-1.pdf)).\n",
    "\n",
    "Stochastic disturbances are introduced to both scenario in the year after the expected harvest year to account for potential carbon losses in both stands due to wildfire risks after harvesting.\n",
    "\n",
    "For both scenarios potential carbon losses from wildfire risks are sampled from a uniform probability distrubution but the approach can be generalized to arbitrary probability distributions.  For each scenario 100 stands are used to model carbon losses from wildfire risks.  Results are aggregated over these 100 stands for each scenario.  The wildfire risk is assumed to be independent of the disturbance history.  This means that identical, randomly distributed wildfire disturbance events are applied to both the harvest and no harvest scneario."
   ]
  },
  {
   "cell_type": "code",
   "execution_count": 1,
   "metadata": {},
   "outputs": [
    {
     "name": "stderr",
     "output_type": "stream",
     "text": [
      "C:\\Users\\b_gra\\.conda\\envs\\cbm3\\lib\\site-packages\\cbm3_python\\cbm3data\\sit_helper.py:27: UserWarning: This method is deprecated, please acquire and install Operational-Scale CBM-CFS3 version 1.2.7606.313 or newer.\n",
      "  warn(\n"
     ]
    }
   ],
   "source": [
    "from itertools import chain\n",
    "import os\n",
    "\n",
    "from scipy.stats import uniform\n",
    "import numpy as np\n",
    "import scipy\n",
    "from matplotlib import pyplot as plt\n",
    "import pandas as pd\n",
    "\n",
    "import cbm3_python.simulation.projectsimulator\n",
    "from cbm3_python.cbm3data import cbm3_results\n",
    "from cbm3_python.cbm3data import sit_helper\n",
    "standard_import_tool_plugin_path=sit_helper.load_standard_import_tool_plugin()\n",
    "\n",
    "\n",
    "from stochastic_disturbance import get_stochastic_disturbance_years\n",
    "from yield_curves import site_class_yield_curve"
   ]
  },
  {
   "cell_type": "code",
   "execution_count": 2,
   "metadata": {},
   "outputs": [],
   "source": [
    "# Parameters\n",
    "\n",
    "# These are some of the basic parameters we use for our simulation\n",
    "# We will create one simulation for each Stand in our model.\n",
    "n_stands = 100\n",
    "# This is the simulation end year\n",
    "end_age = 150\n",
    "mean_disturbance_time = 100\n",
    "# This is the resolution (in years) for our model\n",
    "step_size = 1\n",
    "scenario1 = \"harvest\"\n",
    "scenario2 = 'no harvest'\n",
    "scenarios = [scenario1, scenario2]\n",
    "classifiers = {\n",
    "    'Leading Species': 'Leading Species',\n",
    "    'Stand ID': 'Stand ID',\n",
    "    'Scenario': 'Scenario'}\n",
    "\n",
    "# Seting up the project directory\n",
    "toolbox_path = 'C:\\Program Files (x86)\\Operational-Scale CBM-CFS3'\n",
    "# This is the directory for the project we will create\n",
    "project_name = 'softwood_stochastic_disturbance_with_scenarios'\n",
    "# Let's store our project in the Projects folder of the CBM-CFS3 directory\n",
    "project_main_path = toolbox_path + '\\Projects' + '\\\\' + project_name\n",
    "project_path = project_main_path + '\\\\' + project_name + \".mdb\"\n",
    "results_db_path = project_main_path + '\\\\' + project_name + '_results.mdb'\n",
    "config_save_path =  project_main_path + '\\\\' + 'config.json'\n",
    "\n",
    "\n",
    "\n",
    "# Variables used to define the yield curve\n",
    "# This is representative of a softwood stand in BC\n",
    "# Reference:  https://www.for.gov.bc.ca/hfd/pubs/docs/srs/Srs07.pdf\n",
    "# Forest Inventory Zone: B\n",
    "# Growth Type Group: A\n",
    "# Site Class: M\n",
    "cultivation_age = 59\n",
    "final_age = end_age\n",
    "age = np.arange(0, final_age, step_size)\n",
    "b1 = 616.7332\n",
    "b2 = -0.0607\n",
    "b3 = 9.9966\n",
    "b4 = 0"
   ]
  },
  {
   "cell_type": "markdown",
   "metadata": {},
   "source": [
    "## Create the fire disturbance index for each stand\n",
    "\n",
    "Here we want to sample from a probability distribution to determine the years\n",
    "that a particular stand has a fire.  Here we adopt a simple approach using a\n",
    "uniform probability distribution that can be updated using any standard\n",
    "probability distribution (e.g. from `scipy.stats`)."
   ]
  },
  {
   "cell_type": "code",
   "execution_count": 3,
   "metadata": {},
   "outputs": [
    {
     "data": {
      "text/plain": [
       "(-5.0, 155.0)"
      ]
     },
     "execution_count": 3,
     "metadata": {},
     "output_type": "execute_result"
    },
    {
     "data": {
      "image/png": "[encoded data removed]",
      "text/plain": [
       "<Figure size 432x288 with 1 Axes>"
      ]
     },
     "metadata": {
      "needs_background": "light"
     },
     "output_type": "display_data"
    }
   ],
   "source": [
    "disturbances_by_simulation = get_stochastic_disturbance_years(\n",
    "        simulations=n_stands,\n",
    "        mean_disturbance_time=mean_disturbance_time,\n",
    "        end_age=end_age,\n",
    "        step_size=step_size,\n",
    "        # So we can get repeatable random disturbace results\n",
    "        random_state=42,\n",
    "        # We want to look at the effect of disturbances\n",
    "        # on stands that are ready to be harvested.\n",
    "        disturbance_delay=cultivation_age + step_size)\n",
    "\n",
    "def flatten_nested_list(nested_list):\n",
    "    return list(chain(*nested_list))\n",
    "\n",
    "all_disturbances = flatten_nested_list(disturbances_by_simulation)\n",
    "_, _, _ = plt.hist(all_disturbances, density=True, bins=20)\n",
    "plt.xlim(left=-5, right=end_age+5)"
   ]
  },
  {
   "cell_type": "code",
   "execution_count": 4,
   "metadata": {},
   "outputs": [
    {
     "data": {
      "text/plain": [
       "[[136], [], [85], [139], []]"
      ]
     },
     "execution_count": 4,
     "metadata": {},
     "output_type": "execute_result"
    }
   ],
   "source": [
    "# Disturbance years for the first 5 stands.\n",
    "disturbances_by_simulation[0:5]"
   ]
  },
  {
   "cell_type": "markdown",
   "metadata": {},
   "source": [
    "Depending on the `end_age` and `mean_disturbance_time`, the disturbance frequency is likely to have a peak at `disturbance_delay + mean_disturbance_time * 2`. This is because stands that have their first disturbance before `end_year` also have the potential for a second disturbance event.  Similarly, stands that have two disturbance events before `end_year` also have a probability of having a third disturbance before end_year and so on. "
   ]
  },
  {
   "cell_type": "markdown",
   "metadata": {},
   "source": [
    "# Setting up the basic configuration\n",
    "\n",
    "Here we need to specify the directories that we need to run our model including the location of CBM-CFS3 and teh directories for \n",
    "\n"
   ]
  },
  {
   "cell_type": "code",
   "execution_count": 5,
   "metadata": {},
   "outputs": [],
   "source": [
    "sit_config = sit_helper.SITConfig(\n",
    "    imported_project_path=project_path,\n",
    "    initialize_mapping=True  # What is this for?\n",
    ")"
   ]
  },
  {
   "cell_type": "markdown",
   "metadata": {},
   "source": [
    "### Let's create an object to store the basic configuration requirements for a CBM-CFS3 stand model"
   ]
  },
  {
   "cell_type": "code",
   "execution_count": 6,
   "metadata": {},
   "outputs": [],
   "source": [
    "sit_config.data_config(\n",
    "    age_class_size=step_size,\n",
    "    num_age_classes=int(end_age/step_size),\n",
    "    # The 'Scenario' classifier is used to specify unique scenario names.\n",
    "    # classifiers=[\"Leading Species\", \"Scenario\"])\n",
    "    classifiers=list(classifiers.values()))\n",
    "\n",
    "sit_config.set_single_spatial_unit(42)\n",
    "sit_config.set_species_classifier(classifiers[\"Leading Species\"])\n"
   ]
  },
  {
   "cell_type": "markdown",
   "metadata": {},
   "source": [
    "## Defining a stand"
   ]
  },
  {
   "cell_type": "markdown",
   "metadata": {},
   "source": [
    "## yield curve\n",
    "\n",
    "The parameters for the yield curve are defined above.  In this example, a 1 year time steps is used. For a given stand age, the yield curve represents the yield (m3/ha) of merchantable wood."
   ]
  },
  {
   "cell_type": "code",
   "execution_count": 7,
   "metadata": {},
   "outputs": [
    {
     "data": {
      "text/plain": [
       "<AxesSubplot:xlabel='age'>"
      ]
     },
     "execution_count": 7,
     "metadata": {},
     "output_type": "execute_result"
    },
    {
     "data": {
      "image/png": "[encoded data removed]",
      "text/plain": [
       "<Figure size 576x288 with 1 Axes>"
      ]
     },
     "metadata": {
      "needs_background": "light"
     },
     "output_type": "display_data"
    }
   ],
   "source": [
    "yield_curve = site_class_yield_curve(b1, b2, b3, b4, age)\n",
    "assert len(yield_curve <= end_age/step_size), \"CBM-CFS3 does not accept yield curves greater than end_age/step_size\"\n",
    "df = pd.DataFrame({\"age\": age, \"yield_curve [M^3/ha]\": yield_curve})\n",
    "df.groupby(\"age\").sum().plot(figsize=(8, 4))"
   ]
  },
  {
   "cell_type": "code",
   "execution_count": 8,
   "metadata": {},
   "outputs": [],
   "source": [
    "\"\"\"\n",
    "area=1 : int\n",
    "    a 1 hectare stand.\n",
    "\n",
    "age=0 : int\n",
    "    This looks like the starting point where results are shown.\n",
    "    It's not clear whether it is valid to start at any year since\n",
    "    the model may need some spin-up time for the DOM pools to\n",
    "    equilibriate.  In Tutorial 1, for example, the model setup seems\n",
    "    to imply that most commont stand replace disturbance and most\n",
    "    recent stand replacing disturbance need to be specified. Defining\n",
    "    an arbitrary age may lead to some discontinuities.\n",
    "\n",
    "classifier_set : \n",
    "    this is used to specify the stand.  In this case,\n",
    "    we are setting the 'Softwood forest type' stand with the 'fire disturbance'.\n",
    "    Note that additional scenarios can be added in the same way by\n",
    "    adding an new combination of 'Leading Species' and 'Scenario'.\n",
    "    Using the same classifier_set combination will overwrite previous\n",
    "    stands.\n",
    "\n",
    "unfccc_land_class : \n",
    "    ?\n",
    "\"\"\"\n",
    "\n",
    "# iteratively adding scenarios\n",
    "for i in range(len(disturbances_by_simulation)):\n",
    "    for scenario in scenarios:\n",
    "        sit_config.add_inventory(\n",
    "            classifier_set=[\"Softwood forest type\", f\"Stand {i+1}\", scenario],\n",
    "            area=1, age=0, unfccc_land_class=0)\n",
    "        sit_config.add_yield(\n",
    "            classifier_set=[\"Softwood forest type\", f\"Stand {i+1}\", scenario],\n",
    "            leading_species_classifier_value=\"Softwood forest type\",\n",
    "            values=list(yield_curve))"
   ]
  },
  {
   "cell_type": "markdown",
   "metadata": {},
   "source": [
    "## Creating a disturbance event"
   ]
  },
  {
   "cell_type": "code",
   "execution_count": 9,
   "metadata": {},
   "outputs": [],
   "source": [
    "\"\"\"\n",
    "classifier_set : list\n",
    "    A list of attributes used to describe a stand. In this example,\n",
    "    classifier_set = [\"?\", \"?\"] means that the event is applied\n",
    "    to all stands (stands with any value of \"Leading Species\" and\n",
    "    \"Scenario\").\n",
    "\n",
    "disturbance_type : str\n",
    "    CBM-CFS3 disturbance type\n",
    "time_step : int\n",
    "    Year when disturbance occurs.\n",
    "target : int\n",
    "    Unclear what the target is.\n",
    "target_type : str\n",
    "sort : str\n",
    "\"\"\"\n",
    "harvest_year = cultivation_age\n",
    "# iteratively add disturbances for each scenario.\n",
    "for scenario in scenarios:\n",
    "    for stand_number, disturbance_years in enumerate(disturbances_by_simulation):\n",
    "        if scenario == 'harvest':\n",
    "            sit_config.add_event(\n",
    "                classifier_set=[\"Softwood forest type\", f\"Stand {stand_number+1}\", scenario],\n",
    "                disturbance_type=\"Clear-cut with slash-burn\", \n",
    "                time_step=harvest_year,\n",
    "                target=30,\n",
    "                target_type=\"Area\",\n",
    "                sort=\"SORT_BY_SW_AGE\")\n",
    "        for year in disturbance_years:\n",
    "            sit_config.add_event(\n",
    "                classifier_set=[\"Softwood forest type\", f\"Stand {stand_number+1}\", scenario],\n",
    "                disturbance_type=\"Wildfire\", \n",
    "                time_step=int(year),\n",
    "                target=30,\n",
    "                target_type=\"Area\",\n",
    "                sort=\"SORT_BY_SW_AGE\")"
   ]
  },
  {
   "cell_type": "markdown",
   "metadata": {},
   "source": [
    "## Running a CBM-CFS3 simulation using the project defined above"
   ]
  },
  {
   "cell_type": "code",
   "execution_count": 10,
   "metadata": {},
   "outputs": [
    {
     "name": "stdout",
     "output_type": "stream",
     "text": [
      "simulation time: 3.887249441941579 minutes\n"
     ]
    }
   ],
   "source": [
    "import time\n",
    "start = time.time()\n",
    "\n",
    "sit_config.import_project(standard_import_tool_plugin_path, config_save_path)\n",
    "\n",
    "results_db_path = cbm3_python.simulation.projectsimulator.run(\n",
    "    aidb_path=os.path.join(toolbox_path, \"admin\", \"dbs\", \"ArchiveIndex_Beta_Install.mdb\"), \n",
    "    project_path=os.path.abspath(project_path), \n",
    "    toolbox_installation_dir=toolbox_path,\n",
    "    cbm_exe_path=os.path.join(toolbox_path, \"admin\", \"executables\"),\n",
    "    results_database_path= results_db_path)\n",
    "\n",
    "stop = time.time()\n",
    "print(f'simulation time: {(stop-start)/60} minutes')"
   ]
  },
  {
   "cell_type": "markdown",
   "metadata": {},
   "source": [
    "## Viewing results from the simulation"
   ]
  },
  {
   "cell_type": "code",
   "execution_count": 11,
   "metadata": {},
   "outputs": [],
   "source": [
    "def plot_samples(df, y=None, colors='Stand ID', n_samples=3):\n",
    "    choices = np.random.choice(df[colors].unique(), n_samples)\n",
    "\n",
    "    for choice in choices:\n",
    "        plot_df = df[df[colors]==choice]\n",
    "        plt.plot(plot_df['TimeStep'].values, plot_df[y].values)\n",
    "    plt.legend(choices)\n",
    "\n",
    "\n",
    "def yield_stand_average(df, y):\n",
    "    scenarios = df.Scenario.unique()\n",
    "    for scenario in scenarios:\n",
    "        plot_df = df[['TimeStep', 'Scenario', y]][df['Scenario'] == scenario]\n",
    "        df_average = plot_df[['TimeStep', y]].groupby(['TimeStep'], axis=0).mean()\n",
    "        yield df_average, scenario\n",
    "\n",
    "    \n",
    "def plot_stand_average(df, y):\n",
    "    scenarios = df.Scenario.unique()\n",
    "    for scenario in scenarios:\n",
    "        plot_df = df[['TimeStep', 'Scenario', y]][df['Scenario'] == scenario]\n",
    "        df_average = plot_df[['TimeStep', y]].groupby(['TimeStep'], axis=0).mean()\n",
    "        plt.plot(df_average.index.values, df_average[y].values)\n",
    "    plt.legend(scenarios)"
   ]
  },
  {
   "cell_type": "markdown",
   "metadata": {},
   "source": [
    "### Pools"
   ]
  },
  {
   "cell_type": "code",
   "execution_count": 12,
   "metadata": {},
   "outputs": [],
   "source": [
    "pool_results = cbm3_results.load_pool_indicators(results_db_path,classifier_set_grouping=True)"
   ]
  },
  {
   "cell_type": "code",
   "execution_count": 13,
   "metadata": {},
   "outputs": [
    {
     "data": {
      "text/plain": [
       "Index(['TimeStep', 'UserDefdClassSetID', 'Aboveground Very Fast DOM',\n",
       "       'Belowground Very Fast DOM', 'Aboveground Fast DOM',\n",
       "       'Belowground Fast DOM', 'Medium DOM', 'Aboveground Slow DOM',\n",
       "       'Belowground Slow DOM', 'Softwood Stem Snag', 'Softwood Branch Snag',\n",
       "       'Hardwood Stem Snag', 'Hardwood Branch Snag', 'BlackCarbon', 'Peat',\n",
       "       'Softwood Merchantable', 'Softwood Foliage', 'Softwood Other',\n",
       "       'Softwood Coarse Roots', 'Softwood Fine Roots', 'Hardwood Merchantable',\n",
       "       'Hardwood Foliage', 'Hardwood Other', 'Hardwood Coarse Roots',\n",
       "       'Hardwood Fine Roots', 'Total Biomass', 'Aboveground Biomass',\n",
       "       'Belowground Biomass', 'Total Ecosystem', 'Dead Organic Matter',\n",
       "       'Aboveground DOM', 'Belowground DOM', 'Deadwood', 'Litter', 'Soil C',\n",
       "       'Leading Species', 'Scenario', 'Stand ID'],\n",
       "      dtype='object')"
      ]
     },
     "execution_count": 13,
     "metadata": {},
     "output_type": "execute_result"
    }
   ],
   "source": [
    "# Here are all the pools that we could inspect\n",
    "pool_results.columns"
   ]
  },
  {
   "cell_type": "markdown",
   "metadata": {},
   "source": [
    "### And now the Total Biomass averaged across all stands"
   ]
  },
  {
   "cell_type": "code",
   "execution_count": 14,
   "metadata": {},
   "outputs": [
    {
     "name": "stdout",
     "output_type": "stream",
     "text": [
      "total above ground carbon\n"
     ]
    },
    {
     "data": {
      "image/png": "[encoded data removed]",
      "text/plain": [
       "<Figure size 432x288 with 1 Axes>"
      ]
     },
     "metadata": {
      "needs_background": "light"
     },
     "output_type": "display_data"
    }
   ],
   "source": [
    "y='Total Biomass'\n",
    "plot_stand_average(pool_results, y)\n",
    "print('total above ground carbon')\n",
    "_ = plt.ylabel(\"Total biomass (m3/ha)\")\n",
    "_ = plt.xlabel(\"Year\")"
   ]
  },
  {
   "cell_type": "markdown",
   "metadata": {},
   "source": [
    "With a 1/200 annual wildfire risk, we see that `Total Biomass` stock in the no harvest scenario saturates whereas `Total Biomass` in the harvest scenario decreases at the harvest year when biomass is transfered to the atmosphere (e.g. biomass decacy, slash burning, bioenergy) and to products (lumber, panels, etc.)."
   ]
  },
  {
   "cell_type": "code",
   "execution_count": 15,
   "metadata": {},
   "outputs": [
    {
     "name": "stdout",
     "output_type": "stream",
     "text": [
      "harvest\n",
      "Total Biomass    64.974052\n",
      "dtype: float64\n",
      "------------\n",
      "no harvest\n",
      "Total Biomass    121.869753\n",
      "dtype: float64\n",
      "------------\n"
     ]
    }
   ],
   "source": [
    "for df, scenario in yield_stand_average(pool_results, y):\n",
    "    print(scenario)\n",
    "    print(df[0:2*cultivation_age-1].mean())\n",
    "    print('------------')"
   ]
  },
  {
   "cell_type": "markdown",
   "metadata": {},
   "source": [
    "### Stocks"
   ]
  },
  {
   "cell_type": "code",
   "execution_count": 16,
   "metadata": {},
   "outputs": [],
   "source": [
    "stock_change_results = cbm3_results.load_stock_changes(results_db_path, classifier_set_grouping=True)"
   ]
  },
  {
   "cell_type": "code",
   "execution_count": 17,
   "metadata": {},
   "outputs": [
    {
     "data": {
      "text/plain": [
       "Index(['TimeStep', 'UserDefdClassSetID', 'Delta Total Ecosystem',\n",
       "       'Delta Total Biomass', 'Delta Total DOM',\n",
       "       'Net Primary Productivity (NPP)', 'Net Ecosystem Productivity (NEP)',\n",
       "       'Net Growth', 'Net Litterfall', 'Total Litterfall',\n",
       "       'Decomposition Releases', 'NetCO2emissions_removals_CO2e',\n",
       "       'SumofCOProduction_CO2e', 'SumofCH4Production_CO2e', 'N2O_CO2e',\n",
       "       'ToFps_CO2e', 'Total Harvest (Biomass + Snags)',\n",
       "       'Total Harvest (Biomass)', 'Total Harvest (Snags)',\n",
       "       'Softwood Harvest (Biomass)', 'Hardwood Harvest (Biomass)', 'Deadwood',\n",
       "       'Litter', 'Soil C', 'Aboveground Very Fast DOM Emissions',\n",
       "       'Belowground Very Fast DOM Emissions', 'Aboveground Fast DOM Emissions',\n",
       "       'Belowground Fast DOM Emissions', 'Medium DOM Emissions',\n",
       "       'Aboveground Slow DOM Emissions', 'Belowground Slow DOM Emissions',\n",
       "       'Softwood Stem Snag Emissions', 'Softwood Branch Snag Emissions',\n",
       "       'Hardwood Stem Snag Emissions', 'Hardwood Branch Snag Emissions',\n",
       "       'Black Carbon Emissions', 'Peat Emissions', 'Biomass To DOM',\n",
       "       'Merchantable To DOM', 'Foliage To DOM', 'Other To DOM',\n",
       "       'Coarse Root To DOM', 'Fine Root To DOM', 'Total Emissions',\n",
       "       'Total Biomass Emissions', 'Total DOM Emissions', 'Total CO2 Emissions',\n",
       "       'Total CO Emissions', 'Total CH4 Emissions', 'Bio CO2 Emissions',\n",
       "       'Bio CO Emissions', 'Bio CH4 Emissions', 'DOM CO2 Emissions',\n",
       "       'DOM CO Emissions', 'DOM CH4 Emissions', 'Disturbance Losses',\n",
       "       'Bio To Soil from Disturbances', 'Net Biome Productivity (NBP)',\n",
       "       'Leading Species', 'Scenario', 'Stand ID'],\n",
       "      dtype='object')"
      ]
     },
     "execution_count": 17,
     "metadata": {},
     "output_type": "execute_result"
    }
   ],
   "source": [
    "# And here are the stock change results we could explore\n",
    "stock_change_results.columns"
   ]
  },
  {
   "cell_type": "markdown",
   "metadata": {},
   "source": [
    "### Net ecosystem production (the net carbon exchange)\n",
    "\n",
    "Net ecosystem production is the difference between carbon fixed through photosynthesis and ecosystem respiration.  Negative NEP values represent net emissions of carbon to the atmosphere and positive NEP values represent net removals of carbon from the atmosphere.\n"
   ]
  },
  {
   "cell_type": "code",
   "execution_count": 18,
   "metadata": {},
   "outputs": [],
   "source": [
    "stock_change_to_plot = 'Net Ecosystem Productivity (NEP)'"
   ]
  },
  {
   "cell_type": "code",
   "execution_count": 19,
   "metadata": {},
   "outputs": [
    {
     "data": {
      "image/png": "[encoded data removed]",
      "text/plain": [
       "<Figure size 432x288 with 1 Axes>"
      ]
     },
     "metadata": {
      "needs_background": "light"
     },
     "output_type": "display_data"
    }
   ],
   "source": [
    "plot_stand_average(stock_change_results, stock_change_to_plot)\n",
    "_ = plt.ylabel(\"NEP (tonnes C/ha)\")\n",
    "_ = plt.xlabel(\"Year\")"
   ]
  },
  {
   "cell_type": "markdown",
   "metadata": {},
   "source": [
    "CBM-CFS3 standas are initialized by default with a wildfire disturbance.  So for both scenarios we see 2 decades of carbon emissions for the forest stands followed by several decades of carbon removals.  At the `cultivation_year`, we see an increase in carbon emissions imediately following harvest for the `harvest` scenario as a result of slash burning and decomposition of dead organic matter, which is followed by several decades of carbon removals as the harvested stand re-grows."
   ]
  },
  {
   "cell_type": "markdown",
   "metadata": {},
   "source": [
    "### Net forest carbon emissions comparing the harvest and no harvest scenarios"
   ]
  },
  {
   "cell_type": "code",
   "execution_count": 20,
   "metadata": {},
   "outputs": [
    {
     "name": "stdout",
     "output_type": "stream",
     "text": [
      "Cumulatively NEP by scenario\n",
      "\n",
      "harvest\n",
      "Net Ecosystem Productivity (NEP)    101.91302\n",
      "dtype: float64\n",
      "-----------------\n",
      "no harvest\n",
      "Net Ecosystem Productivity (NEP)    61.997312\n",
      "dtype: float64\n",
      "-----------------\n"
     ]
    }
   ],
   "source": [
    "average_stand_results = []\n",
    "\n",
    "print('Cumulatively NEP by scenario')\n",
    "print()\n",
    "\n",
    "for df, scenario in yield_stand_average(stock_change_results, stock_change_to_plot):\n",
    "    average_stand_results.append(df)\n",
    "    print(scenario)\n",
    "    print(df[0:2*cultivation_age-1].sum())\n",
    "    print('-----------------')\n"
   ]
  },
  {
   "cell_type": "markdown",
   "metadata": {},
   "source": [
    "We see increased NEP over the simulation time horizon for the `harvest` scenario compared to the `no harvest` scenario.  This means that the `harvest` scenario has increased carbon removals at the forest compared to the `no harvest` scenario because the harvest disturbance opens up the forest canopy to stimulate new growth while transferring harvested biomass out of the system.  For the `harvest` scenario, significant quantitites of carbon are transferred out of the system and used to produce energy or products.  Emissions from these transfers are not accounted for in NEP. "
   ]
  },
  {
   "cell_type": "markdown",
   "metadata": {},
   "source": [
    "**Net forest carbon emissions (-NEP) from harvest scenario compared to no harvest scenario over the full time horizon.**"
   ]
  },
  {
   "cell_type": "code",
   "execution_count": 21,
   "metadata": {},
   "outputs": [
    {
     "name": "stdout",
     "output_type": "stream",
     "text": [
      "Net CO2 emissions (tonnes CO2/hectare)\n"
     ]
    },
    {
     "data": {
      "image/png": "[encoded data removed]",
      "text/plain": [
       "<Figure size 432x288 with 1 Axes>"
      ]
     },
     "metadata": {
      "needs_background": "light"
     },
     "output_type": "display_data"
    }
   ],
   "source": [
    "print(\"Net CO2 emissions (tonnes CO2/hectare)\")\n",
    "# We use a negative because for NEP, an emission is negative\n",
    "harvest_emissions = -average_stand_results[0].iloc[:,0].values\n",
    "no_harvest_emissions = -average_stand_results[1].iloc[:,0].values\n",
    "scenario_difference = harvest_emissions-no_harvest_emissions\n",
    "plt.plot(average_stand_results[0].index.values, scenario_difference)\n",
    "plt.plot(harvest_emissions)\n",
    "plt.plot(no_harvest_emissions)\n",
    "_ = plt.legend(['difference', 'harvest', 'no-harvest'])\n",
    "_ = plt.ylabel(\"Annual C emissions (tonnes  C/ha)\")\n",
    "_ = plt.xlabel(\"Year\")"
   ]
  },
  {
   "cell_type": "markdown",
   "metadata": {},
   "source": [
    "**Net forest carbon emissions (-NEP) from harvest scenario compared to no harvest scenario over one harvest cycle.**"
   ]
  },
  {
   "cell_type": "code",
   "execution_count": 22,
   "metadata": {},
   "outputs": [
    {
     "name": "stdout",
     "output_type": "stream",
     "text": [
      "Annual CO2 emissions at forest over harvest cycle (tonnes CO2 per hectare)\n"
     ]
    },
    {
     "data": {
      "text/plain": [
       "<matplotlib.collections.LineCollection at 0x1745db53d90>"
      ]
     },
     "execution_count": 22,
     "metadata": {},
     "output_type": "execute_result"
    },
    {
     "data": {
      "image/png": "[encoded data removed]",
      "text/plain": [
       "<Figure size 432x288 with 1 Axes>"
      ]
     },
     "metadata": {
      "needs_background": "light"
     },
     "output_type": "display_data"
    }
   ],
   "source": [
    "print(\"Annual CO2 emissions at forest over harvest cycle (tonnes CO2 per hectare)\")\n",
    "t = np.arange(cultivation_age-1, 2*cultivation_age-1)\n",
    "difference = scenario_difference[cultivation_age-1:2*cultivation_age-1]\n",
    "plt.plot(t, difference)\n",
    "harvest = harvest_emissions[cultivation_age-1:2*cultivation_age-1]\n",
    "plt.plot(t, harvest)\n",
    "no_harvest = no_harvest_emissions[cultivation_age-1:2*cultivation_age-1]\n",
    "plt.plot(t, no_harvest)\n",
    "_ = plt.legend(['difference', 'harvest', 'no-harvest'])\n",
    "_ = plt.ylabel(\"Annual C emissions (tonnes C/ha)\")\n",
    "_ = plt.xlabel(\"Year since harvest\")\n",
    "plt.hlines(y=0, xmin=cultivation_age-1, xmax=2*cultivation_age-1, colors='grey')"
   ]
  },
  {
   "cell_type": "code",
   "execution_count": 23,
   "metadata": {},
   "outputs": [
    {
     "data": {
      "text/plain": [
       "-39.915707503457014"
      ]
     },
     "execution_count": 23,
     "metadata": {},
     "output_type": "execute_result"
    }
   ],
   "source": [
    "scenario_difference[cultivation_age-1:2*cultivation_age-1].sum()"
   ]
  },
  {
   "cell_type": "code",
   "execution_count": 24,
   "metadata": {},
   "outputs": [
    {
     "data": {
      "text/plain": [
       "-68.2570905152972"
      ]
     },
     "execution_count": 24,
     "metadata": {},
     "output_type": "execute_result"
    }
   ],
   "source": [
    "harvest_emissions[cultivation_age-1:2*cultivation_age-1].sum()"
   ]
  },
  {
   "cell_type": "code",
   "execution_count": 25,
   "metadata": {},
   "outputs": [
    {
     "data": {
      "text/plain": [
       "-28.341383011840175"
      ]
     },
     "execution_count": 25,
     "metadata": {},
     "output_type": "execute_result"
    }
   ],
   "source": [
    "no_harvest_emissions[cultivation_age-1:2*cultivation_age-1].sum()"
   ]
  }
 ],
 "metadata": {
  "kernelspec": {
   "display_name": "cbm3",
   "language": "python",
   "name": "cbm3"
  },
  "language_info": {
   "codemirror_mode": {
    "name": "ipython",
    "version": 3
   },
   "file_extension": ".py",
   "mimetype": "text/x-python",
   "name": "python",
   "nbconvert_exporter": "python",
   "pygments_lexer": "ipython3",
   "version": "3.8.6"
  }
 },
 "nbformat": 4,
 "nbformat_minor": 4
}
