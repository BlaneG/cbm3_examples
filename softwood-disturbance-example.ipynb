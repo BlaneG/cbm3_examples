{
 "cells": [
  {
   "cell_type": "markdown",
   "metadata": {},
   "source": [
    "### Modelling carbon fluxes from wildfire\n",
    "\n",
    "This example was developed using overmature_decline_and_litterfall.ipynb from the cbm3_scripting_examples repository as a template.\n",
    "\n",
    "It shows how to initalize a stand with a wildfire disturbance using cbm-cfs3 using cbm3_python."
   ]
  },
  {
   "cell_type": "code",
   "execution_count": 1,
   "metadata": {},
   "outputs": [],
   "source": [
    "import os\n",
    "import warnings\n",
    "from dataclasses import dataclass, field\n",
    "\n",
    "import numpy as np\n",
    "import pandas as pd\n",
    "%matplotlib inline"
   ]
  },
  {
   "cell_type": "code",
   "execution_count": 2,
   "metadata": {},
   "outputs": [
    {
     "name": "stderr",
     "output_type": "stream",
     "text": [
      "C:\\Users\\b_gra\\.conda\\envs\\cbm3\\lib\\site-packages\\cbm3_python\\cbm3data\\sit_helper.py:27: UserWarning: This method is deprecated, please acquire and install Operational-Scale CBM-CFS3 version 1.2.7606.313 or newer.\n",
      "  warn(\n"
     ]
    }
   ],
   "source": [
    "import cbm3_python.simulation.projectsimulator\n",
    "from cbm3_python.cbm3data import cbm3_results\n",
    "from cbm3_python.cbm3data import sit_helper\n",
    "standard_import_tool_plugin_path=sit_helper.load_standard_import_tool_plugin()"
   ]
  },
  {
   "cell_type": "markdown",
   "metadata": {},
   "source": [
    "# Setting up the basic configuration\n",
    "\n",
    "Here we need to specify the directories that we need to run our model including the location of CBM-CFS3 and teh directories for \n",
    "\n"
   ]
  },
  {
   "cell_type": "code",
   "execution_count": 3,
   "metadata": {},
   "outputs": [],
   "source": [
    "toolbox_path = 'C:\\Program Files (x86)\\Operational-Scale CBM-CFS3'\n",
    "# This is the directory for the project we will create\n",
    "project_name = 'softwood_disturbance_example'\n",
    "# Let's store our project in the Projects folder of the CBM-CFS3 directory\n",
    "project_main_path = toolbox_path + '\\Projects' + '\\\\' + project_name\n",
    "project_path = project_main_path + '\\\\' + project_name + \".mdb\"\n",
    "results_db_path = project_main_path + '\\\\' + project_name + project_name + '_results.mdb'\n",
    "config_save_path =  project_main_path + '\\\\' + project_name + '\\config.json'\n",
    "\n",
    "sit_config = sit_helper.SITConfig(\n",
    "    imported_project_path=project_path,\n",
    "    initialize_mapping=True  # What is this for?\n",
    ")"
   ]
  },
  {
   "cell_type": "markdown",
   "metadata": {},
   "source": [
    "### Let's create an object to store the basic configuration requirements for a CBM-CFS3 stand model"
   ]
  },
  {
   "cell_type": "code",
   "execution_count": 4,
   "metadata": {},
   "outputs": [],
   "source": [
    "sit_config.data_config(\n",
    "    age_class_size=10,\n",
    "    num_age_classes=27,\n",
    "    # The 'Scenario' classifier is used to specify unique scenario names.\n",
    "    classifiers=[\"Leading Species\", \"Scenario\"])\n",
    "\n",
    "sit_config.set_single_spatial_unit(42)\n",
    "sit_config.set_species_classifier(\"Leading Species\")\n"
   ]
  },
  {
   "cell_type": "markdown",
   "metadata": {},
   "source": [
    "# Now we need to define a stand a it's disturbance events"
   ]
  },
  {
   "cell_type": "code",
   "execution_count": 5,
   "metadata": {},
   "outputs": [
    {
     "data": {
      "text/plain": [
       "<AxesSubplot:xlabel='age'>"
      ]
     },
     "execution_count": 5,
     "metadata": {},
     "output_type": "execute_result"
    },
    {
     "data": {
      "image/png": "[encoded data removed]",
      "text/plain": [
       "<Figure size 432x288 with 1 Axes>"
      ]
     },
     "metadata": {
      "needs_background": "light"
     },
     "output_type": "display_data"
    }
   ],
   "source": [
    "# First we define a yield curve for our stand.  In this example, 10 year time steps is used.\n",
    "# Each value in the yield curve represents the yield (m3/ha) at 10 year time steps\n",
    "# starting at year 0.  The data source for this is not clear, but it comes from\n",
    "# overmature_decline_and_litterfall.ipynb in the cbm3_scripting_examples repo on Github\n",
    "yield_curve = [\n",
    "    0.0, 3.597241992, 9.485174636, 23.8405844, 53.78828427, 100, 146.2117157, 176.1594156,\n",
    "    190.5148254, 196.402758, 198.6614298, 199.5054754, 199.8177898, 199.93293, 199.9753211,\n",
    "    199.9909204, 199.9966597, 199.9987712, 199.9995479, 199.9998337, 199.9999388, 199.9999775,\n",
    "    199.9999917, 199.999997, 199.9999989, 199.9999996, 200\n",
    "  ]\n",
    "x_axis = [x*10 for x in range(len(yield_curve))]\n",
    "pd.DataFrame(\n",
    "    {\"age\": x_axis,\n",
    "     \"yield_curve [M^3/ha]\": yield_curve,\n",
    "     }) \\\n",
    "    .groupby(\"age\").sum().plot()"
   ]
  },
  {
   "cell_type": "markdown",
   "metadata": {},
   "source": [
    "## Defining a stand"
   ]
  },
  {
   "cell_type": "code",
   "execution_count": 6,
   "metadata": {},
   "outputs": [],
   "source": [
    "# area=1 : a 1 hectare stand.\n",
    "\n",
    "# age=0 .  This looks like the starting point where results are shown.\n",
    "# It's not clear if whether it is valid to start at any year since\n",
    "# the model may need some spin-up time for the DOM pools to\n",
    "# equilibriate.  In Tutorial 1, for example, the model setup seems\n",
    "# to imply that most commont stand replace disturbance and most\n",
    "# recent stand replacing disturbance need to be specified. Defining\n",
    "# an arbitrary age may lead to some discontinuities.\n",
    "\n",
    "# classifier_set : this is used to specify the stand.  In this case,\n",
    "# we are setting the 'Spruce' stand with the 'fire disturbance'.\n",
    "# Note that additional scenarios can be added in the same way by\n",
    "# adding an new combination of 'Leading Species' and 'Scenario'.\n",
    "# Using the same classifier_set combination will overwrite previous\n",
    "# stands.\n",
    "\n",
    "# unfccc_land_class : ?\n",
    "sit_config.add_inventory(\n",
    "    classifier_set=[\"Spruce\", \"fire disturbance\"],\n",
    "    area=1, age=0, unfccc_land_class=0)\n",
    "sit_config.add_yield(\n",
    "    classifier_set=[\"Spruce\", \"fire disturbance\"],\n",
    "    leading_species_classifier_value=\"Spruce\",\n",
    "    values=yield_curve)"
   ]
  },
  {
   "cell_type": "markdown",
   "metadata": {},
   "source": [
    "## Creating a disturbance event"
   ]
  },
  {
   "cell_type": "code",
   "execution_count": 7,
   "metadata": {},
   "outputs": [],
   "source": [
    "\"\"\"\n",
    "classifier_set = [\"?\", \"?\"] means that the event is applied\n",
    "to all stands (stands with any value of \"Leading Species\" and\n",
    "\"Scenario\").\n",
    "\n",
    "disturbance_type : str\n",
    "    CBM-CFS3 disturbance type\n",
    "time_step : int\n",
    "    Year when disturbance occurs.\n",
    "target : int\n",
    "    Unclear what the target is.\n",
    "target_type : str\n",
    "sort : str\n",
    "\"\"\"\n",
    "\n",
    "sit_config.add_event(classifier_set=[\"?\", \"?\"], disturbance_type=\"Wildfire\", \n",
    "              time_step=0, target=30, target_type=\"Area\", sort=\"SORT_BY_SW_AGE\")\n",
    "\n",
    "# Dummy event to get the sit to run 250 years.  The simulation will only\n",
    "# run to the last disturbance event by default. \n",
    "sit_config.add_event(classifier_set=[\"?\", \"?\"], disturbance_type=\"Wildfire\", \n",
    "              time_step=255, target=30, target_type=\"Area\", sort=\"SORT_BY_SW_AGE\")"
   ]
  },
  {
   "cell_type": "markdown",
   "metadata": {},
   "source": [
    "## Running a CBM-CFS3 simulation using the project defined above"
   ]
  },
  {
   "cell_type": "code",
   "execution_count": 8,
   "metadata": {},
   "outputs": [],
   "source": [
    "sit_config.import_project(standard_import_tool_plugin_path, config_save_path)\n",
    "\n",
    "results_db_path = cbm3_python.simulation.projectsimulator.run(\n",
    "    aidb_path=os.path.join(toolbox_path, \"admin\", \"dbs\", \"ArchiveIndex_Beta_Install.mdb\"), \n",
    "    project_path=os.path.abspath(project_path), \n",
    "    toolbox_installation_dir=toolbox_path,\n",
    "    cbm_exe_path=os.path.join(toolbox_path, \"admin\", \"executables\"),\n",
    "    results_database_path= results_db_path)"
   ]
  },
  {
   "cell_type": "markdown",
   "metadata": {},
   "source": [
    "## Loading results from the simulation"
   ]
  },
  {
   "cell_type": "code",
   "execution_count": 9,
   "metadata": {},
   "outputs": [],
   "source": [
    "pool_results = cbm3_results.load_pool_indicators(results_db_path,classifier_set_grouping=True)\n"
   ]
  },
  {
   "cell_type": "code",
   "execution_count": 10,
   "metadata": {},
   "outputs": [
    {
     "data": {
      "text/plain": [
       "Index(['TimeStep', 'UserDefdClassSetID', 'Aboveground Very Fast DOM',\n",
       "       'Belowground Very Fast DOM', 'Aboveground Fast DOM',\n",
       "       'Belowground Fast DOM', 'Medium DOM', 'Aboveground Slow DOM',\n",
       "       'Belowground Slow DOM', 'Softwood Stem Snag', 'Softwood Branch Snag',\n",
       "       'Hardwood Stem Snag', 'Hardwood Branch Snag', 'BlackCarbon', 'Peat',\n",
       "       'Softwood Merchantable', 'Softwood Foliage', 'Softwood Other',\n",
       "       'Softwood Coarse Roots', 'Softwood Fine Roots', 'Hardwood Merchantable',\n",
       "       'Hardwood Foliage', 'Hardwood Other', 'Hardwood Coarse Roots',\n",
       "       'Hardwood Fine Roots', 'Total Biomass', 'Aboveground Biomass',\n",
       "       'Belowground Biomass', 'Total Ecosystem', 'Dead Organic Matter',\n",
       "       'Aboveground DOM', 'Belowground DOM', 'Deadwood', 'Litter', 'Soil C',\n",
       "       'Leading Species', 'Scenario'],\n",
       "      dtype='object')"
      ]
     },
     "execution_count": 10,
     "metadata": {},
     "output_type": "execute_result"
    }
   ],
   "source": [
    "# Here are all the pools that we could inspect\n",
    "pool_results.columns"
   ]
  },
  {
   "cell_type": "code",
   "execution_count": 11,
   "metadata": {},
   "outputs": [
    {
     "data": {
      "text/plain": [
       "<AxesSubplot:title={'center':'Total Biomass'}, xlabel='TimeStep'>"
      ]
     },
     "execution_count": 11,
     "metadata": {},
     "output_type": "execute_result"
    },
    {
     "data": {
      "image/png": "[encoded data removed]",
      "text/plain": [
       "<Figure size 432x288 with 1 Axes>"
      ]
     },
     "metadata": {
      "needs_background": "light"
     },
     "output_type": "display_data"
    }
   ],
   "source": [
    "pool_results[[\"TimeStep\",\"Scenario\", \"Total Biomass\"]] \\\n",
    "    .pivot(index=\"TimeStep\", columns=\"Scenario\", values=\"Total Biomass\") \\\n",
    "    .plot(title=\"Total Biomass\")"
   ]
  },
  {
   "cell_type": "code",
   "execution_count": 12,
   "metadata": {},
   "outputs": [],
   "source": [
    "stock_change_results = cbm3_results.load_stock_changes(results_db_path, classifier_set_grouping=True)"
   ]
  },
  {
   "cell_type": "code",
   "execution_count": 13,
   "metadata": {},
   "outputs": [
    {
     "data": {
      "text/plain": [
       "Index(['TimeStep', 'UserDefdClassSetID', 'Delta Total Ecosystem',\n",
       "       'Delta Total Biomass', 'Delta Total DOM',\n",
       "       'Net Primary Productivity (NPP)', 'Net Ecosystem Productivity (NEP)',\n",
       "       'Net Growth', 'Net Litterfall', 'Total Litterfall',\n",
       "       'Decomposition Releases', 'NetCO2emissions_removals_CO2e',\n",
       "       'SumofCOProduction_CO2e', 'SumofCH4Production_CO2e', 'N2O_CO2e',\n",
       "       'ToFps_CO2e', 'Total Harvest (Biomass + Snags)',\n",
       "       'Total Harvest (Biomass)', 'Total Harvest (Snags)',\n",
       "       'Softwood Harvest (Biomass)', 'Hardwood Harvest (Biomass)', 'Deadwood',\n",
       "       'Litter', 'Soil C', 'Aboveground Very Fast DOM Emissions',\n",
       "       'Belowground Very Fast DOM Emissions', 'Aboveground Fast DOM Emissions',\n",
       "       'Belowground Fast DOM Emissions', 'Medium DOM Emissions',\n",
       "       'Aboveground Slow DOM Emissions', 'Belowground Slow DOM Emissions',\n",
       "       'Softwood Stem Snag Emissions', 'Softwood Branch Snag Emissions',\n",
       "       'Hardwood Stem Snag Emissions', 'Hardwood Branch Snag Emissions',\n",
       "       'Black Carbon Emissions', 'Peat Emissions', 'Biomass To DOM',\n",
       "       'Merchantable To DOM', 'Foliage To DOM', 'Other To DOM',\n",
       "       'Coarse Root To DOM', 'Fine Root To DOM', 'Total Emissions',\n",
       "       'Total Biomass Emissions', 'Total DOM Emissions', 'Total CO2 Emissions',\n",
       "       'Total CO Emissions', 'Total CH4 Emissions', 'Bio CO2 Emissions',\n",
       "       'Bio CO Emissions', 'Bio CH4 Emissions', 'DOM CO2 Emissions',\n",
       "       'DOM CO Emissions', 'DOM CH4 Emissions', 'Disturbance Losses',\n",
       "       'Bio To Soil from Disturbances', 'Net Biome Productivity (NBP)',\n",
       "       'Leading Species', 'Scenario'],\n",
       "      dtype='object')"
      ]
     },
     "execution_count": 13,
     "metadata": {},
     "output_type": "execute_result"
    }
   ],
   "source": [
    "# And here are the stock change results we could explore\n",
    "stock_change_results.columns"
   ]
  },
  {
   "cell_type": "code",
   "execution_count": 14,
   "metadata": {},
   "outputs": [
    {
     "data": {
      "text/plain": [
       "<AxesSubplot:title={'center':'Net Ecosystem Productivity (NEP)'}, xlabel='TimeStep'>"
      ]
     },
     "execution_count": 14,
     "metadata": {},
     "output_type": "execute_result"
    },
    {
     "data": {
      "image/png": "[encoded data removed]",
      "text/plain": [
       "<Figure size 432x288 with 1 Axes>"
      ]
     },
     "metadata": {
      "needs_background": "light"
     },
     "output_type": "display_data"
    }
   ],
   "source": [
    "stock_change_results[[\"TimeStep\",\"Scenario\", 'Net Ecosystem Productivity (NEP)']] \\\n",
    "    .pivot(index=\"TimeStep\", columns=\"Scenario\", values=['Net Ecosystem Productivity (NEP)']) \\\n",
    "    .plot(title=\"Net Ecosystem Productivity (NEP)\")"
   ]
  }
 ],
 "metadata": {
  "kernelspec": {
   "display_name": "Python 3",
   "language": "python",
   "name": "python3"
  },
  "language_info": {
   "codemirror_mode": {
    "name": "ipython",
    "version": 3
   },
   "file_extension": ".py",
   "mimetype": "text/x-python",
   "name": "python",
   "nbconvert_exporter": "python",
   "pygments_lexer": "ipython3",
   "version": "3.8.6"
  }
 },
 "nbformat": 4,
 "nbformat_minor": 4
}
